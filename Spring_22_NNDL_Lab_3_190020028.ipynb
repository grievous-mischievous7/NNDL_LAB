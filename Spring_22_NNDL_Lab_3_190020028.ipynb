{
  "nbformat": 4,
  "nbformat_minor": 0,
  "metadata": {
    "colab": {
      "name": "Spring_22_NNDL_Lab_3_190020028.ipynb",
      "provenance": [],
      "collapsed_sections": [],
      "include_colab_link": true
    },
    "kernelspec": {
      "name": "python3",
      "display_name": "Python 3"
    },
    "language_info": {
      "name": "python"
    }
  },
  "cells": [
    {
      "cell_type": "markdown",
      "metadata": {
        "id": "view-in-github",
        "colab_type": "text"
      },
      "source": [
        "<a href=\"https://colab.research.google.com/github/grievous-mischievous7/NNDL_LAB/blob/main/Spring_22_NNDL_Lab_3_190020028.ipynb\" target=\"_parent\"><img src=\"https://colab.research.google.com/assets/colab-badge.svg\" alt=\"Open In Colab\"/></a>"
      ]
    },
    {
      "cell_type": "markdown",
      "source": [
        "# LAB 3 : Associative Networks \n",
        "\n",
        "Name : **Neville Thomas Sebastian**\n",
        "\n",
        "Roll Number : **190020028**\n",
        "\n",
        "Referrence Material : **Chapter 4, page no. 90-110, Artificial Neural Network by B. Yegnanarayana**\n"
      ],
      "metadata": {
        "id": "JkPVwZjnp1mb"
      }
    },
    {
      "cell_type": "markdown",
      "source": [
        "#**Problem 1** : Demonstrate the working principle of two layer auto-associative network. Observation to be demonstrated are:\n",
        "1. Limitation of no. of patterns to input dimensionality.\n",
        "2. Effect of orthonormal, orthogonal, linearly independent and linearly dependent in\u0002put vectors.\n",
        "3. Use all 3 learning rules (i.e. by computation, Widrow and Hebbian), to find the optimal weight and mention their pros. and cons.\n",
        "\n",
        "Hints:\n",
        "\n",
        "1. Generate data such that each input output data points have different functional\n",
        "relation.\n",
        "2.  First do it using computation method for each set of data (i.e orthogonal, orthonormal, linearly independent and linearly dependent (not all only few) case ), then take the performance as reference, to implement using Widrow and Hebbian learning."
      ],
      "metadata": {
        "id": "dVvALvvbqApN"
      }
    },
    {
      "cell_type": "markdown",
      "source": [
        "##Write down the Objectives, Hypothesis and Experimental description for the above problem\n",
        "\n"
      ],
      "metadata": {
        "id": "Xz2nXk_HqvHm"
      }
    },
    {
      "cell_type": "markdown",
      "source": [
        "## OBJECTIVE\n",
        "Implementation of two layer auto-associative network.\n",
        "## HYPOTHESIS\n",
        "\n",
        "\n",
        "*  **Computation :** By computation method the final weights matrix is obtained by multiplying the target matrix with the pseudo inverse of input matrix.\n",
        "*   **Widrow :** By widrow's method , the weights are learned in recursion using the learning law.\n",
        "*   **Hebbian :**By hebbian method , the weights are updated using the weight update rule of hebbian . \n",
        "\n",
        "## EXPERIMENTAL DESCRIPTION\n",
        "*  **Computation :** By computation method the final weights matrix is obtained by multiplying the target matrix with the pseudo inverse of input matrix.This will provide the weight matrix which gives the least mean squared error.And this is implemented below.\n",
        "  \n",
        "*   **Widrow :** By widrow's method , the weights are learned in recursion using the learning law.The learning law is : W(l+1)=W(l)+lr*(error)*(input).\n",
        "and this is implemnted.\n",
        "*   **Hebbian :**By hebbian method , the weights are updated using the weight update rule of hebbian . The weight update is : Dw=(input vector)*(output vector)\n"
      ],
      "metadata": {
        "id": "SYbCYWzyq5y6"
      }
    },
    {
      "cell_type": "markdown",
      "source": [
        "## Programming : \n",
        "  Please write a program to demonstrate the same"
      ],
      "metadata": {
        "id": "UBv4aywTqyGU"
      }
    },
    {
      "cell_type": "code",
      "execution_count": 99,
      "metadata": {
        "id": "bYd-3K8Vn3HB",
        "colab": {
          "base_uri": "https://localhost:8080/"
        },
        "outputId": "5fd2b8c1-c11e-4540-e653-74213adc9f7f"
      },
      "outputs": [
        {
          "output_type": "stream",
          "name": "stdout",
          "text": [
            "3*3 Linearly independant input matrix : \n",
            " [[0 1 2]\n",
            " [1 2 1]\n",
            " [2 0 0]]\n",
            "corresponding output matrix : \n",
            "  [[0 1 4]\n",
            " [3 2 2]\n",
            " [6 0 0]]\n",
            "\n",
            "\n",
            "3*3 Orthonormal input matrix : \n",
            " [[-0.60990372 -0.47843872 -0.63175457]\n",
            " [-0.75084393  0.09388571  0.65377279]\n",
            " [-0.25347749  0.87308755 -0.41649405]]\n",
            "corresponding output matrix : \n",
            "  [[-1.82971117 -0.47843872 -1.26350914]\n",
            " [-2.2525318   0.09388571  1.30754558]\n",
            " [-0.76043248  0.87308755 -0.83298811]]\n",
            "\n",
            "\n",
            "3*3 Linearly dependant input matrix : \n",
            " [[0 1 1]\n",
            " [1 2 3]\n",
            " [2 0 2]]\n",
            "corresponding output matrix : \n",
            "  [[0 1 2]\n",
            " [3 2 6]\n",
            " [6 0 4]]\n",
            "\n",
            "\n",
            "4*3 Linearly independant input matrix : \n",
            " [[0 1 2]\n",
            " [1 2 3]\n",
            " [2 3 0]\n",
            " [3 0 1]]\n",
            "corresponding output matrix : \n",
            "  [[0 1 4]\n",
            " [3 2 6]\n",
            " [6 3 0]\n",
            " [9 0 2]]\n",
            "\n",
            "\n",
            "3*4 Linearly independant input matrix : \n",
            " [[0 1 2 3]\n",
            " [1 2 3 0]\n",
            " [2 3 0 1]]\n",
            "corresponding output matrix : \n",
            "  [[ 0  1  4 12]\n",
            " [ 3  2  6  0]\n",
            " [ 6  3  0  4]]\n",
            "\n",
            "\n"
          ]
        }
      ],
      "source": [
        "import numpy as np\n",
        "import scipy.linalg as sc\n",
        "import matplotlib.pyplot as plt\n",
        "\n",
        "## Write your code here to Generate the Data\n",
        "## Important Parameters to generate data are : Number of Datapoints, Dimension of Data\n",
        "#N_data=3\n",
        "#dim=3\n",
        "A_LI=np.array([[0,1,2],[1,2,0],[2,1,0]]).T\n",
        "B_LI=[3,1,2]*(A_LI)\n",
        "print('3*3 Linearly independant input matrix : \\n',A_LI)\n",
        "print('corresponding output matrix : \\n ',B_LI)\n",
        "print('\\n')\n",
        "\n",
        "A_orthonormal=sc.orth(A_LI)\n",
        "B_orthonormal=[3,1,2]*(A_orthonormal)\n",
        "print('3*3 Orthonormal input matrix : \\n',A_orthonormal)\n",
        "print('corresponding output matrix : \\n ',B_orthonormal)\n",
        "print('\\n')\n",
        "\n",
        "A_LD=np.array([[0,1,2],[1,2,0],[1,3,2]]).T\n",
        "B_LD=[3,1,2]*(A_LD)\n",
        "print('3*3 Linearly dependant input matrix : \\n',A_LD)\n",
        "print('corresponding output matrix : \\n ',B_LD)\n",
        "print('\\n')\n",
        "\n",
        "#LI with L<M\n",
        "A_LI_1=np.array([[0,1,2,3],[1,2,3,0],[2,3,0,1]]).T\n",
        "B_LI_1=[3,1,2]*(A_LI_1)\n",
        "print('4*3 Linearly independant input matrix : \\n',A_LI_1)\n",
        "print('corresponding output matrix : \\n ',B_LI_1)\n",
        "print('\\n')\n",
        "\n",
        "#LI with M<L\n",
        "A_LI_2=np.array([[0,1,2,3],[1,2,3,0],[2,3,0,1]])\n",
        "B_LI_2=[3,1,2,4]*(A_LI_2)\n",
        "print('3*4 Linearly independant input matrix : \\n',A_LI_2)\n",
        "print('corresponding output matrix : \\n ',B_LI_2)\n",
        "print('\\n')"
      ]
    },
    {
      "cell_type": "code",
      "source": [
        "def weights_by_computation(A,B):\n",
        "\n",
        "  ## Here A is input and B is output\n",
        "  \n",
        "  weights = B@np.linalg.pinv(A)## Write the weight equation here\n",
        "  error = np.square(np.linalg.norm(B-(weights@A)))*1/A.shape[1]## Mean Squared Error\n",
        "\n",
        "  return weights,error\n"
      ],
      "metadata": {
        "id": "ltg8CqwXsWft"
      },
      "execution_count": null,
      "outputs": []
    },
    {
      "cell_type": "code",
      "source": [
        "def weights_by_widrow(A,B,num_epochs,learning_rate,w_initial):\n",
        "\n",
        "  ## Here A is input and B is output\n",
        "  weights = w_initial## Initialise weights here\n",
        "  error=[]\n",
        "  for epoch in range(num_epochs):\n",
        "\n",
        "    ## Write the widrow learning training loop here\n",
        "    output=weights@A\n",
        "    D_w=lr*((B-output)@A.T)\n",
        "    weights+=D_w\n",
        "    error.append((1/A.shape[1])*np.sum(np.square(B-output)))\n",
        "\n",
        "  return weights,error\n"
      ],
      "metadata": {
        "id": "uuXyhZGftQBz"
      },
      "execution_count": 111,
      "outputs": []
    },
    {
      "cell_type": "code",
      "source": [
        "def weights_by_hebbian(A,B,num_epochs,lr,w_initial):\n",
        "\n",
        "  ## Here A is input and B is output\n",
        "  weights = w_initial ## Initialise weights here\n",
        "  error=[]\n",
        "  for epoch in range(num_epochs):\n",
        "    for i in range(A.shape[1]):\n",
        "      input=np.matrix(A[:,i]).T\n",
        "      target=np.matrix(B[:,i]).T\n",
        "      D_w=lr*input@target.T\n",
        "      weights+=D_w\n",
        "    error=(np.square(np.linalg.norm(B-(weights@A)))*1/A.shape[1])\n",
        "    if np.round(error,8) == 0:\n",
        "      return weights,error;\n",
        "    \n",
        "  return weights,error"
      ],
      "metadata": {
        "id": "2aAEGtnT201z"
      },
      "execution_count": 139,
      "outputs": []
    },
    {
      "cell_type": "code",
      "source": [
        "w,err=weights_by_computation(A_LI,B_LI)\n",
        "print('weights by computation for linearly independant A \\n',(w))\n",
        "print('error by computation = '+str(np.round(err,8)))\n",
        "print('\\n')\n",
        "\n",
        "w,err=weights_by_computation(A_orthonormal,B_orthonormal)\n",
        "print('weights by computation for orthonormal A \\n',(w))\n",
        "print('error by computation = '+str(np.round(err,8)))\n",
        "print('\\n')\n",
        "\n",
        "w,err=weights_by_computation(A_LD,B_LD)\n",
        "print('weights by computation for linearly dependant A \\n',(w))\n",
        "print('error by computation = '+str(np.round(err,8)))\n",
        "print('\\n')\n",
        "\n",
        "w,err=weights_by_computation(A_LI_1,B_LI_1)\n",
        "print('weights by computation for linearly independant A , L<M \\n',(w))\n",
        "print('error by computation = '+str(np.round(err,8)))\n",
        "print('\\n')\n",
        "\n",
        "w,err=weights_by_computation(A_LI_2,B_LI_2)\n",
        "print('weights by computation for linearly independant A , L>M \\n',(w))\n",
        "print('error by computation = '+str(np.round(err,8)))\n",
        "print('\\n')"
      ],
      "metadata": {
        "colab": {
          "base_uri": "https://localhost:8080/"
        },
        "id": "vbDc0YazaN44",
        "outputId": "29a646a0-1020-4916-b3f6-096e057535e4"
      },
      "execution_count": 105,
      "outputs": [
        {
          "output_type": "stream",
          "name": "stdout",
          "text": [
            "weights by computation for linearly independant A \n",
            " [[ 2.33333333e+00 -6.66666667e-01  3.33333333e-01]\n",
            " [ 6.66666667e-01  6.66666667e-01  1.16666667e+00]\n",
            " [-8.44199333e-17 -5.59772179e-18  3.00000000e+00]]\n",
            "error by computation = 0.0\n",
            "\n",
            "\n",
            "weights by computation for orthonormal A \n",
            " [[2.14307894 0.50286107 0.57231576]\n",
            " [0.50286107 2.55495208 0.10835159]\n",
            " [0.57231576 0.10835159 1.30196898]]\n",
            "error by computation = 0.0\n",
            "\n",
            "\n",
            "weights by computation for linearly dependant A \n",
            " [[ 2.85714286e-01  5.23809524e-01 -9.52380952e-02]\n",
            " [ 2.38095238e-01  1.04761905e+00  1.14285714e+00]\n",
            " [-6.66666667e-01 -3.33066907e-16  2.66666667e+00]]\n",
            "error by computation = 0.66666667\n",
            "\n",
            "\n",
            "weights by computation for linearly independant A , L<M \n",
            " [[ 0.68421053  0.86842105 -0.47368421  0.02631579]\n",
            " [ 0.78289474  1.19078947 -0.38815789  0.86184211]\n",
            " [-0.43421053 -0.11842105  1.22368421  1.22368421]\n",
            " [-0.44078947 -0.00657895  0.15131579  2.90131579]]\n",
            "error by computation = 0.0\n",
            "\n",
            "\n",
            "weights by computation for linearly independant A , L>M \n",
            " [[ 3.90131579 -1.31578947  0.15131579]\n",
            " [ 0.00657895  1.92105263 -0.24342105]\n",
            " [ 0.58552632 -0.52631579  1.83552632]]\n",
            "error by computation = 4.50986842\n",
            "\n",
            "\n"
          ]
        }
      ]
    },
    {
      "cell_type": "code",
      "source": [
        "num_epochs=5000\n",
        "lr=0.01\n",
        "w_initial=np.array([[0.0,0.0,0.0],[0.0,0.0,0.0],[0.0,0.0,0.0]])\n",
        "\n",
        "w,err=weights_by_widrow(A_LI,B_LI,num_epochs,lr,w_initial)\n",
        "print('weights by widrow for linearly independant A \\n',(w))\n",
        "print('error by widrow = '+str(np.round(err[-1],8)))\n",
        "print('\\n')\n",
        "err=np.array(err)\n",
        "plt.plot(list(range(len(err))),err,color='g')\n",
        "plt.show()\n",
        "print('================================================\\n')\n",
        "\n",
        "w,err=weights_by_widrow(A_orthonormal,B_orthonormal,num_epochs,lr,w_initial)\n",
        "print('weights by widrow for linearly independant A \\n',(w))\n",
        "print('error by widrow = '+str(np.round(err[-1],8)))\n",
        "print('\\n')\n",
        "err=np.array(err)\n",
        "plt.plot(list(range(len(err))),err,color='r')\n",
        "plt.show()\n",
        "print('===============================================\\n')\n",
        "\n",
        "w,err=weights_by_widrow(A_LD,B_LD,num_epochs,lr,w_initial)\n",
        "print('weights by widrow for linearly dependant A \\n',(w))\n",
        "print('error by widrow = '+str(np.round(err[-1],8)))\n",
        "print('\\n')\n",
        "err=np.array(err)\n",
        "plt.plot(list(range(len(err))),err,color='b')\n",
        "plt.show()\n",
        "print('===============================================\\n')\n",
        "\n",
        "w_initial=np.array([[0.0,0.0,0.0,0.0],[0.0,0.0,0.0,0.0],[0.0,0.0,0.0,0.0],[0.0,0.0,0.0,0.0]])\n",
        "w,err=weights_by_widrow(A_LI_1,B_LI_1,num_epochs,lr,w_initial)\n",
        "print('weights by widrow for linearly independant A ,L<M \\n',(w))\n",
        "print('error by widrow = '+str(np.round(err[-1],8)))\n",
        "print('\\n')\n",
        "err=np.array(err)\n",
        "plt.plot(list(range(len(err))),err,color='y')\n",
        "plt.show()\n",
        "print('================================================\\n')\n",
        "\n",
        "w_initial=np.array([[0.0,0.0,0.0],[0.0,0.0,0.0],[0.0,0.0,0.0]])\n",
        "w,err=weights_by_widrow(A_LI_2,B_LI_2,num_epochs,lr,w_initial)\n",
        "print('weights by widrow for linearly independant A ,L>M \\n',(w))\n",
        "print('error by widrow = '+str(np.round(err[-1],8)))\n",
        "print('\\n')\n",
        "err=np.array(err)\n",
        "plt.plot(list(range(len(err))),err,color='m')\n",
        "plt.show()\n",
        "print('================================================\\n')"
      ],
      "metadata": {
        "colab": {
          "base_uri": "https://localhost:8080/",
          "height": 1000
        },
        "id": "Ciy1tIpoWc7t",
        "outputId": "9bb479ca-ec4c-4f99-a5aa-dd953cc4661d"
      },
      "execution_count": 147,
      "outputs": [
        {
          "output_type": "stream",
          "name": "stdout",
          "text": [
            "weights by widrow for linearly independant A \n",
            " [[ 2.33333333e+00 -6.66666667e-01  3.33333333e-01]\n",
            " [ 6.66666667e-01  6.66666667e-01  1.16666667e+00]\n",
            " [-4.73696774e-15  5.92120563e-15  3.00000000e+00]]\n",
            "error by widrow = 0.0\n",
            "\n",
            "\n"
          ]
        },
        {
          "output_type": "display_data",
          "data": {
            "image/png": "[encoded data removed]",
            "text/plain": [
              "<Figure size 432x288 with 1 Axes>"
            ]
          },
          "metadata": {
            "needs_background": "light"
          }
        },
        {
          "output_type": "stream",
          "name": "stdout",
          "text": [
            "================================================\n",
            "\n",
            "weights by widrow for linearly independant A \n",
            " [[2.14307894 0.50286107 0.57231576]\n",
            " [0.50286107 2.55495208 0.10835159]\n",
            " [0.57231576 0.10835159 1.30196898]]\n",
            "error by widrow = 0.0\n",
            "\n",
            "\n"
          ]
        },
        {
          "output_type": "display_data",
          "data": {
            "image/png": "[encoded data removed]",
            "text/plain": [
              "<Figure size 432x288 with 1 Axes>"
            ]
          },
          "metadata": {
            "needs_background": "light"
          }
        },
        {
          "output_type": "stream",
          "name": "stdout",
          "text": [
            "===============================================\n",
            "\n",
            "weights by widrow for linearly dependant A \n",
            " [[ 1.83598274 -0.2513247   0.29232902]\n",
            " [-0.3314492   1.33239127  1.00047103]\n",
            " [-0.02389927 -0.3213837   2.82735851]]\n",
            "error by widrow = 0.66666667\n",
            "\n",
            "\n"
          ]
        },
        {
          "output_type": "display_data",
          "data": {
            "image/png": "[encoded data removed]",
            "text/plain": [
              "<Figure size 432x288 with 1 Axes>"
            ]
          },
          "metadata": {
            "needs_background": "light"
          }
        },
        {
          "output_type": "stream",
          "name": "stdout",
          "text": [
            "===============================================\n",
            "\n",
            "weights by widrow for linearly independant A ,L<M \n",
            " [[ 0.68421053  0.86842105 -0.47368421  0.02631579]\n",
            " [ 0.78289474  1.19078947 -0.38815789  0.86184211]\n",
            " [-0.43421053 -0.11842105  1.22368421  1.22368421]\n",
            " [-0.44078947 -0.00657895  0.15131579  2.90131579]]\n",
            "error by widrow = 0.0\n",
            "\n",
            "\n"
          ]
        },
        {
          "output_type": "display_data",
          "data": {
            "image/png": "[encoded data removed]",
            "text/plain": [
              "<Figure size 432x288 with 1 Axes>"
            ]
          },
          "metadata": {
            "needs_background": "light"
          }
        },
        {
          "output_type": "stream",
          "name": "stdout",
          "text": [
            "================================================\n",
            "\n",
            "weights by widrow for linearly independant A ,L>M \n",
            " [[ 3.90131579 -1.31578947  0.15131579]\n",
            " [ 0.00657895  1.92105263 -0.24342105]\n",
            " [ 0.58552632 -0.52631579  1.83552632]]\n",
            "error by widrow = 4.50986842\n",
            "\n",
            "\n"
          ]
        },
        {
          "output_type": "display_data",
          "data": {
            "image/png": "[encoded data removed]",
            "text/plain": [
              "<Figure size 432x288 with 1 Axes>"
            ]
          },
          "metadata": {
            "needs_background": "light"
          }
        },
        {
          "output_type": "stream",
          "name": "stdout",
          "text": [
            "================================================\n",
            "\n"
          ]
        }
      ]
    },
    {
      "cell_type": "code",
      "source": [
        "num_epochs=5\n",
        "lr=1\n",
        "\n",
        "w_initial=np.array([[0.0,0.0,0.0],[0.0,0.0,0.0],[0.0,0.0,0.0]])\n",
        "w,err= weights_by_hebbian(A_LI,B_LI,num_epochs,lr,w_initial)\n",
        "print('weights by hebbian for linearly independant A \\n',(w))\n",
        "print('error by hebbian = '+str(np.round(err,8)))\n",
        "print('\\n')\n",
        "w_initial=np.array([[0.0,0.0,0.0],[0.0,0.0,0.0],[0.0,0.0,0.0]])\n",
        "w,err= weights_by_hebbian(A_orthonormal,B_orthonormal,num_epochs,lr,w_initial)\n",
        "print('weights by hebbian for orthonormal A \\n',(w))\n",
        "print('error by hebbian = '+str(np.round(err,8)))\n",
        "print('\\n')\n",
        "w_initial=np.array([[0.0,0.0,0.0],[0.0,0.0,0.0],[0.0,0.0,0.0]])\n",
        "w,err= weights_by_hebbian(A_LD,B_LD,num_epochs,lr,w_initial)\n",
        "print('weights by hebbian for linearly dependant A \\n',(w))\n",
        "print('error by hebbian = '+str(np.round(err,8)))\n",
        "print('\\n')\n",
        "\n",
        "w_initial=np.array([[0.0,0.0,0.0,0.0],[0.0,0.0,0.0,0.0],[0.0,0.0,0.0,0.0],[0.0,0.0,0.0,0.0]])\n",
        "w,err= weights_by_hebbian(A_LI_1,B_LI_1,num_epochs,lr,w_initial)\n",
        "print('weights by hebbian for linearly independant A \\n',(w))\n",
        "print('error by hebbian = '+str(np.round(err,8)))\n",
        "print('\\n')\n",
        "\n",
        "w_initial=np.array([[0.0,0.0,0.0],[0.0,0.0,0.0],[0.0,0.0,0.0]])\n",
        "w,err= weights_by_hebbian(A_LI_2,B_LI_2,num_epochs,lr,w_initial)\n",
        "print('weights by hebbian for linearly independant A \\n',(w))\n",
        "print('error by hebbian = '+str(np.round(err,8)))\n",
        "print('\\n')\n"
      ],
      "metadata": {
        "colab": {
          "base_uri": "https://localhost:8080/"
        },
        "id": "AaIfYbIoNbmk",
        "outputId": "9359b8ca-2567-4298-fda0-a7a52fdc64f0"
      },
      "execution_count": 143,
      "outputs": [
        {
          "output_type": "stream",
          "name": "stdout",
          "text": [
            "weights by hebbian for linearly independant A \n",
            " [[45. 30.  0.]\n",
            " [30. 45. 30.]\n",
            " [ 0. 30. 60.]]\n",
            "error by hebbian = 28448.33333333\n",
            "\n",
            "\n",
            "weights by hebbian for orthonormal A \n",
            " [[2.14307894 0.50286107 0.57231576]\n",
            " [0.50286107 2.55495208 0.10835159]\n",
            " [0.57231576 0.10835159 1.30196898]]\n",
            "error by hebbian = 0.0\n",
            "\n",
            "\n",
            "weights by hebbian for linearly dependant A \n",
            " [[ 15.  40.  20.]\n",
            " [ 40. 125.  90.]\n",
            " [ 20.  90. 100.]]\n",
            "error by hebbian = 307695.33333333\n",
            "\n",
            "\n",
            "weights by hebbian for linearly independant A \n",
            " [[ 45.  70.  15.  20.]\n",
            " [ 70. 125.  60.  75.]\n",
            " [ 15.  60. 105.  90.]\n",
            " [ 20.  75.  90. 145.]]\n",
            "error by hebbian = 794612.0\n",
            "\n",
            "\n",
            "weights by hebbian for linearly independant A \n",
            " [[225.  70.  75.]\n",
            " [ 70. 125.  60.]\n",
            " [ 75.  60. 125.]]\n",
            "error by hebbian = 662842.75\n",
            "\n",
            "\n"
          ]
        }
      ]
    },
    {
      "cell_type": "markdown",
      "source": [
        "## Inferences and Conclusion : State all the key observations and conclusion"
      ],
      "metadata": {
        "id": "7i-dHXdtq22j"
      }
    },
    {
      "cell_type": "markdown",
      "source": [
        "## INFERENCE\n",
        "\n",
        "\n",
        "*   **By computation method**, except for linear dependant and linear independant with L>M all other cases gives approx. zero error . \n",
        "*   **By Widrow's method** , all cases will eventually have zero error as observed from the plots.\n",
        "*   **By Widrow's method**,As the lr rate is increased the no.of iterations required for convergence decreases\n",
        "\n",
        "| learning rate | iterations after which error converges |\n",
        "|---------------|----------------------------------------|\n",
        "| 0.0001        | 1152                                   |\n",
        "| 0.001         | 620                                    |\n",
        "| 0.01          | 350                                    |\n",
        "\n",
        "\n",
        "*   **By hebbian method**, the error is zero only for the orthonormal case.\n",
        "##CONCLUSION\n",
        "\n",
        "*   The working principle of auto associative neural networks were demonstrated and verified."
      ],
      "metadata": {
        "id": "5Sx3jrowq60t"
      }
    },
    {
      "cell_type": "markdown",
      "source": [
        "# **Problem 2** : Demonstrate the working principle of two layer associative network performing hetero\u0002association task (i.e each input output pair is related with different functional relations).\n",
        "\n",
        "Observation to be demonstrated are:\n",
        "1. Limitation of no. of patterns to input dimensionality.\n",
        "2. Overcome the limitation by modifying the task to a pattern classification task.\n",
        "3. Use computation and Widrow’s learning law to demonstrate the same.\n",
        "\n",
        "Hints:\n",
        "\n",
        "1. Generate data such that each input output data points have different functional\n",
        "relation.\n",
        "2. First do it using computation method , then take the performance as reference, to\n",
        "implement using Widrow learning.\n",
        "3. Modify the data and network element such that the network will overcome the\n",
        "limitation of limitation of no. of data points with the input dimensionality, and\n",
        "perform pattern classification task."
      ],
      "metadata": {
        "id": "Nuk9TMAtq-gf"
      }
    },
    {
      "cell_type": "markdown",
      "source": [
        "##Write down the Objectives, Hypothesis and Experimental description for the above problem\n",
        "\n"
      ],
      "metadata": {
        "id": "z90pHFuLrjjB"
      }
    },
    {
      "cell_type": "markdown",
      "source": [
        "## OBJECTIVE\n",
        "Implementation of two layer hetero-associative network.\n",
        "## HYPOTHESIS\n",
        "\n",
        "\n",
        "*  **Computation :**By computation method the final weights matrix is obtained by multiplying the target matrix with the pseudo inverse of input matrix.  \n",
        "*   **Widrow :**By widrow's method , the weights are learned in recursion using the learning law.\n",
        "\n",
        "\n",
        "\n",
        "## EXPERIMENTAL DESCRIPTION\n",
        "\n",
        "*  **Computation :** By computation method the final weights matrix is obtained by multiplying the target matrix with the pseudo inverse of input matrix.This will provide the weight matrix which gives the least mean squared error.And this is implemented below.\n",
        "  \n",
        "*   **Widrow :** By widrow's method , the weights are learned in recursion using the learning law.The learning law is : W(l+1)=W(l)+lr*(error)*(input).\n",
        "and this is implemnted.\n",
        "\n",
        "*   **Classification**:By classification , the activation function is taken to be the sign function.\n"
      ],
      "metadata": {
        "id": "8J0DGPTwrkZ8"
      }
    },
    {
      "cell_type": "markdown",
      "source": [
        "## Programming : \n",
        "  Please write a program to demonstrate the same"
      ],
      "metadata": {
        "id": "pDBbGAHWrl3c"
      }
    },
    {
      "cell_type": "code",
      "source": [
        "## Write your code here to Generate the Data\n",
        "## Important Parameters to generate data are : Number of Datapoints, Dimension of Data\n",
        "A=np.array([[0,1,2],[1,2,0],[2,1,0]]).T\n",
        "I=np.array([[1,2],[3,4],[2,1]]).T\n",
        "B=np.dot(I,A)\n",
        "\n"
      ],
      "metadata": {
        "id": "zzSf6CMOrmxg",
        "colab": {
          "base_uri": "https://localhost:8080/"
        },
        "outputId": "a4193718-875c-4ad2-95b5-1893166b6ceb"
      },
      "execution_count": null,
      "outputs": [
        {
          "output_type": "stream",
          "name": "stdout",
          "text": [
            "[[0 1 2]\n",
            " [1 2 1]\n",
            " [2 0 0]]\n",
            "[[1 3 2]\n",
            " [2 4 1]]\n",
            "[[ 7  7  5]\n",
            " [ 6 10  8]]\n"
          ]
        }
      ]
    },
    {
      "cell_type": "code",
      "source": [
        "## You can use the same function defined above for computation method and widrow's learning law\n",
        "def weights_by_computation(A,B):\n",
        "\n",
        "  ## Here A is input and B is output\n",
        "  \n",
        "  weights = B@np.linalg.pinv(A)## Write the weight equation here\n",
        "  error = np.square(np.linalg.norm(B-(weights@A)))*1/A.shape[1]## Mean Squared Error\n",
        "\n",
        "  return weights,error\n",
        "\n",
        "def weights_by_widrow(A,B,num_epochs,learning_rate):\n",
        "\n",
        "  ## Here A is input and B is output\n",
        "  weights = np.array([[0.0,0.0,0.0],[0.0,0.0,0.0]])## Initialise weights here\n",
        "  error=[]\n",
        "  for epoch in range(num_epochs):\n",
        "\n",
        "    ## Write the widrow learning training loop here\n",
        "    output=weights@A\n",
        "    D_w=lr*((B-output)@A.T)\n",
        "    weights+=D_w\n",
        "    error.append((1/A.shape[1])*np.sum(np.square(B-output)))\n",
        "\n",
        "  return weights,error"
      ],
      "metadata": {
        "id": "n3S0FF2Zu-MF"
      },
      "execution_count": null,
      "outputs": []
    },
    {
      "cell_type": "code",
      "source": [
        "w,err=weights_by_computation(A,B)\n",
        "print('weights by computation for linearly independant A \\n',(w))\n",
        "print('error by computation = '+str(np.round(err,8)))\n",
        "print('\\n')"
      ],
      "metadata": {
        "colab": {
          "base_uri": "https://localhost:8080/"
        },
        "id": "W8ivoHiGmamt",
        "outputId": "0f39db31-bb40-478a-ec39-865f76217dc5"
      },
      "execution_count": null,
      "outputs": [
        {
          "output_type": "stream",
          "name": "stdout",
          "text": [
            "weights by computation for linearly independant A \n",
            " [[1. 3. 2.]\n",
            " [2. 4. 1.]]\n",
            "error by computation = 0.0\n",
            "\n",
            "\n"
          ]
        }
      ]
    },
    {
      "cell_type": "code",
      "source": [
        "num_epochs=5000\n",
        "lr=0.01\n",
        "w,err=weights_by_widrow(A,B,num_epochs,lr)\n",
        "print('weights by widrow for linearly independant A \\n',(w))\n",
        "print('error by widrow = '+str(np.round(err[-1],8)))\n",
        "print('\\n')\n",
        "err=np.array(err)\n",
        "plt.plot(list(range(len(err))),err,color='r')\n",
        "plt.show()\n",
        "print('================================================\\n')"
      ],
      "metadata": {
        "colab": {
          "base_uri": "https://localhost:8080/",
          "height": 404
        },
        "id": "srvtIScumo39",
        "outputId": "be6c9f22-c91f-4915-a571-c2ccdc24cc4b"
      },
      "execution_count": null,
      "outputs": [
        {
          "output_type": "stream",
          "name": "stdout",
          "text": [
            "weights by widrow for linearly independant A \n",
            " [[1. 3. 2.]\n",
            " [2. 4. 1.]]\n",
            "error by widrow = 0.0\n",
            "\n",
            "\n"
          ]
        },
        {
          "output_type": "display_data",
          "data": {
            "image/png": "[encoded data removed]",
            "text/plain": [
              "<Figure size 432x288 with 1 Axes>"
            ]
          },
          "metadata": {
            "needs_background": "light"
          }
        },
        {
          "output_type": "stream",
          "name": "stdout",
          "text": [
            "================================================\n",
            "\n"
          ]
        }
      ]
    },
    {
      "cell_type": "markdown",
      "source": [
        "## Inferences and Conclusion : State all the key observations and conclusion"
      ],
      "metadata": {
        "id": "wXwqOzaqroPN"
      }
    },
    {
      "cell_type": "markdown",
      "source": [
        "## INFERENCE\n",
        "*    for hetero association task for both computation and widrow the error obtained was zero . \n",
        "\n",
        "##CONCLUSION\n",
        "*    The working principle of auto associative neural networks were demonstrated and verified."
      ],
      "metadata": {
        "id": "ebBZC2eJrpQl"
      }
    },
    {
      "cell_type": "code",
      "source": [
        ""
      ],
      "metadata": {
        "id": "PAf-uCjA_Wcg"
      },
      "execution_count": null,
      "outputs": []
    }
  ]
}