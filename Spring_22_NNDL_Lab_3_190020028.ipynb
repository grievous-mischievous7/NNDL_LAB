{
  "nbformat": 4,
  "nbformat_minor": 0,
  "metadata": {
    "colab": {
      "name": "Spring_22_NNDL_Lab_3_190020028.ipynb",
      "provenance": [],
      "collapsed_sections": [],
      "include_colab_link": true
    },
    "kernelspec": {
      "name": "python3",
      "display_name": "Python 3"
    },
    "language_info": {
      "name": "python"
    }
  },
  "cells": [
    {
      "cell_type": "markdown",
      "metadata": {
        "id": "view-in-github",
        "colab_type": "text"
      },
      "source": [
        "<a href=\"https://colab.research.google.com/github/grievous-mischievous7/NNDL_LAB/blob/main/Spring_22_NNDL_Lab_3_190020028.ipynb\" target=\"_parent\"><img src=\"https://colab.research.google.com/assets/colab-badge.svg\" alt=\"Open In Colab\"/></a>"
      ]
    },
    {
      "cell_type": "markdown",
      "source": [
        "# LAB 3 : Associative Networks \n",
        "\n",
        "Name : **Neville Thomas Sebastian**\n",
        "\n",
        "Roll Number : **190020028**\n",
        "\n",
        "Referrence Material : **Chapter 4, page no. 90-110, Artificial Neural Network by B. Yegnanarayana**\n"
      ],
      "metadata": {
        "id": "JkPVwZjnp1mb"
      }
    },
    {
      "cell_type": "markdown",
      "source": [
        "#**Problem 1** : Demonstrate the working principle of two layer auto-associative network. Observation to be demonstrated are:\n",
        "1. Limitation of no. of patterns to input dimensionality.\n",
        "2. Effect of orthonormal, orthogonal, linearly independent and linearly dependent in\u0002put vectors.\n",
        "3. Use all 3 learning rules (i.e. by computation, Widrow and Hebbian), to find the optimal weight and mention their pros. and cons.\n",
        "\n",
        "Hints:\n",
        "\n",
        "1. Generate data such that each input output data points have different functional\n",
        "relation.\n",
        "2.  First do it using computation method for each set of data (i.e orthogonal, orthonormal, linearly independent and linearly dependent (not all only few) case ), then take the performance as reference, to implement using Widrow and Hebbian learning."
      ],
      "metadata": {
        "id": "dVvALvvbqApN"
      }
    },
    {
      "cell_type": "markdown",
      "source": [
        "##Write down the Objectives, Hypothesis and Experimental description for the above problem\n",
        "\n"
      ],
      "metadata": {
        "id": "Xz2nXk_HqvHm"
      }
    },
    {
      "cell_type": "markdown",
      "source": [
        ""
      ],
      "metadata": {
        "id": "SYbCYWzyq5y6"
      }
    },
    {
      "cell_type": "markdown",
      "source": [
        "## Programming : \n",
        "  Please write a program to demonstrate the same"
      ],
      "metadata": {
        "id": "UBv4aywTqyGU"
      }
    },
    {
      "cell_type": "code",
      "execution_count": 43,
      "metadata": {
        "id": "bYd-3K8Vn3HB"
      },
      "outputs": [],
      "source": [
        "import numpy as np\n",
        "import scipy.linalg as sc\n",
        "import matplotlib.pyplot as plt\n",
        "\n",
        "## Write your code here to Generate the Data\n",
        "## Important Parameters to generate data are : Number of Datapoints, Dimension of Data\n",
        "#N_data=3\n",
        "#dim=3\n",
        "A_LI=np.array([[0,1,2],[1,2,0],[2,1,0]]).T\n",
        "B_LI=[3,1,2]*(A_LI)\n",
        "\n",
        "A_orthonormal=sc.orth(A_LI)\n",
        "B_orthonormal=[3,1,2]*(A_orthonormal)\n",
        "\n",
        "A_LD=np.array([[0,1,2],[1,2,0],[1,3,2]]).T\n",
        "B_LD=[3,1,2]*(A_LD)"
      ]
    },
    {
      "cell_type": "code",
      "source": [
        "def weights_by_computation(A,B):\n",
        "\n",
        "  ## Here A is input and B is output\n",
        "  \n",
        "  weights = B@np.linalg.pinv(A)## Write the weight equation here\n",
        "  error = np.square(np.linalg.norm(B-(weights@A)))*1/A.shape[1]## Mean Squared Error\n",
        "\n",
        "  return weights,error\n"
      ],
      "metadata": {
        "id": "ltg8CqwXsWft"
      },
      "execution_count": 2,
      "outputs": []
    },
    {
      "cell_type": "code",
      "source": [
        "def weights_by_widrow(A,B,num_epochs,learning_rate):\n",
        "\n",
        "  ## Here A is input and B is output\n",
        "  weights = np.array([[0.0,0.0,0.0],[0.0,0.0,0.0],[0.0,0.0,0.0]])## Initialise weights here\n",
        "  error=[]\n",
        "  for epoch in range(num_epochs):\n",
        "\n",
        "    ## Write the widrow learning training loop here\n",
        "    output=weights@A\n",
        "    D_w=lr*((B-output)@A.T)\n",
        "    weights+=D_w\n",
        "    error.append((1/A.shape[1])*np.sum(np.square(B-output)))\n",
        "\n",
        "  return weights,error\n"
      ],
      "metadata": {
        "id": "uuXyhZGftQBz"
      },
      "execution_count": 50,
      "outputs": []
    },
    {
      "cell_type": "code",
      "source": [
        "def weights_by_hebbian(A,B,num_epochs,lr):\n",
        "\n",
        "  ## Here A is input and B is output\n",
        "  weights = np.array([[0.0,0.0,0.0],[0.0,0.0,0.0],[0.0,0.0,0.0]])## Initialise weights here\n",
        "  error=[]\n",
        "  for epoch in range(num_epochs):\n",
        "\n",
        "    for i in range(A.shape[1]):\n",
        "      input=np.matrix(A[:,i]).T\n",
        "      target=np.matrix(B[:,i]).T\n",
        "      D_w=lr*input@target.T\n",
        "      weights+=D_w\n",
        "      error=np.square(np.linalg.norm(B-(weights@A)))*1/A.shape[1]\n",
        "    \n",
        "    if np.round(error,8)==0:\n",
        "      return weights,error;\n",
        "    \n",
        "  return weights,error"
      ],
      "metadata": {
        "id": "2aAEGtnT201z"
      },
      "execution_count": 47,
      "outputs": []
    },
    {
      "cell_type": "code",
      "source": [
        "w,err=weights_by_computation(A_LI,B_LI)\n",
        "print('weights by computation for linearly independant A \\n',(w))\n",
        "print('error by computation = '+str(np.round(err,8)))\n",
        "print('\\n')\n",
        "\n",
        "w,err=weights_by_computation(A_orthonormal,B_orthonormal)\n",
        "print('weights by computation for orthonormal A \\n',(w))\n",
        "print('error by computation = '+str(np.round(err,8)))\n",
        "print('\\n')\n",
        "\n",
        "w,err=weights_by_computation(A_LD,B_LD)\n",
        "print('weights by computation for linearly dependant A \\n',(w))\n",
        "print('error by computation = '+str(np.round(err,8)))"
      ],
      "metadata": {
        "colab": {
          "base_uri": "https://localhost:8080/"
        },
        "id": "vbDc0YazaN44",
        "outputId": "c25604d6-6e85-49c8-f64c-11d7f75b2569"
      },
      "execution_count": 7,
      "outputs": [
        {
          "output_type": "stream",
          "name": "stdout",
          "text": [
            "weights by computation for linearly independant A \n",
            " [[ 2.33333333e+00 -6.66666667e-01  3.33333333e-01]\n",
            " [ 6.66666667e-01  6.66666667e-01  1.16666667e+00]\n",
            " [-8.44199333e-17 -5.59772179e-18  3.00000000e+00]]\n",
            "error by computation = 0.0\n",
            "\n",
            "\n",
            "weights by computation for orthonormal A \n",
            " [[2.14307894 0.50286107 0.57231576]\n",
            " [0.50286107 2.55495208 0.10835159]\n",
            " [0.57231576 0.10835159 1.30196898]]\n",
            "error by computation = 0.0\n",
            "\n",
            "\n",
            "weights by computation for linearly dependant A \n",
            " [[ 2.85714286e-01  5.23809524e-01 -9.52380952e-02]\n",
            " [ 2.38095238e-01  1.04761905e+00  1.14285714e+00]\n",
            " [-6.66666667e-01 -3.33066907e-16  2.66666667e+00]]\n",
            "error by computation = 0.66666667\n"
          ]
        }
      ]
    },
    {
      "cell_type": "code",
      "source": [
        "num_epochs=5000\n",
        "lr=0.01\n",
        "w,err=weights_by_widrow(A_LI,B_LI,num_epochs,lr)\n",
        "print('weights by widrow for linearly independant A \\n',(w))\n",
        "print('error by widrow = '+str(np.round(err[-1],8)))\n",
        "print('\\n')\n",
        "err=np.array(err)\n",
        "plt.plot(list(range(len(err))),err,color='g')\n",
        "plt.show()\n",
        "print('================================================\\n')\n",
        "\n",
        "w,err=weights_by_widrow(A_orthonormal,B_orthonormal,num_epochs,lr)\n",
        "print('weights by widrow for linearly independant A \\n',(w))\n",
        "print('error by widrow = '+str(np.round(err[-1],8)))\n",
        "print('\\n')\n",
        "err=np.array(err)\n",
        "plt.plot(list(range(len(err))),err,color='r')\n",
        "plt.show()\n",
        "print('===============================================\\n')\n",
        "\n",
        "w,err=weights_by_widrow(A_LD,B_LD,num_epochs,lr)\n",
        "print('weights by widrow for linearly independant A \\n',(w))\n",
        "print('error by widrow = '+str(np.round(err[-1],8)))\n",
        "print('\\n')\n",
        "err=np.array(err)\n",
        "plt.plot(list(range(len(err))),err,color='b')\n",
        "plt.show()\n",
        "print('===============================================\\n')"
      ],
      "metadata": {
        "colab": {
          "base_uri": "https://localhost:8080/",
          "height": 1000
        },
        "id": "Ciy1tIpoWc7t",
        "outputId": "687b4b27-13da-417b-942e-eb70e7d07361"
      },
      "execution_count": 69,
      "outputs": [
        {
          "output_type": "stream",
          "name": "stdout",
          "text": [
            "weights by widrow for linearly independant A \n",
            " [[ 2.33333333e+00 -6.66666667e-01  3.33333333e-01]\n",
            " [ 6.66666667e-01  6.66666667e-01  1.16666667e+00]\n",
            " [-4.73696774e-15  5.92120563e-15  3.00000000e+00]]\n",
            "error by widrow = 0.0\n",
            "\n",
            "\n"
          ]
        },
        {
          "output_type": "display_data",
          "data": {
            "image/png": "[encoded data removed]",
            "text/plain": [
              "<Figure size 432x288 with 1 Axes>"
            ]
          },
          "metadata": {
            "needs_background": "light"
          }
        },
        {
          "output_type": "stream",
          "name": "stdout",
          "text": [
            "================================================\n",
            "\n",
            "weights by widrow for linearly independant A \n",
            " [[2.14307894 0.50286107 0.57231576]\n",
            " [0.50286107 2.55495208 0.10835159]\n",
            " [0.57231576 0.10835159 1.30196898]]\n",
            "error by widrow = 0.0\n",
            "\n",
            "\n"
          ]
        },
        {
          "output_type": "display_data",
          "data": {
            "image/png": "[encoded data removed]",
            "text/plain": [
              "<Figure size 432x288 with 1 Axes>"
            ]
          },
          "metadata": {
            "needs_background": "light"
          }
        },
        {
          "output_type": "stream",
          "name": "stdout",
          "text": [
            "===============================================\n",
            "\n",
            "weights by widrow for linearly independant A \n",
            " [[ 2.85714286e-01  5.23809524e-01 -9.52380952e-02]\n",
            " [ 2.38095238e-01  1.04761905e+00  1.14285714e+00]\n",
            " [-6.66666667e-01  2.46120751e-15  2.66666667e+00]]\n",
            "error by widrow = 0.66666667\n",
            "\n",
            "\n"
          ]
        },
        {
          "output_type": "display_data",
          "data": {
            "image/png": "[encoded data removed]",
            "text/plain": [
              "<Figure size 432x288 with 1 Axes>"
            ]
          },
          "metadata": {
            "needs_background": "light"
          }
        },
        {
          "output_type": "stream",
          "name": "stdout",
          "text": [
            "===============================================\n",
            "\n"
          ]
        }
      ]
    },
    {
      "cell_type": "code",
      "source": [
        "num_epochs=5\n",
        "lr=1\n",
        "\n",
        "w,err= weights_by_hebbian(A_LI,B_LI,num_epochs,lr)\n",
        "print('weights by hebbian for linearly independant A \\n',(w))\n",
        "print('error by hebbian = '+str(np.round(err,8)))\n",
        "print('\\n')\n",
        "\n",
        "w,err= weights_by_hebbian(A_orthonormal,B_orthonormal,num_epochs,lr)\n",
        "print('weights by hebbian for orthonormal A \\n',(w))\n",
        "print('error by hebbian = '+str(np.round(err,8)))\n",
        "print('\\n')\n",
        "\n",
        "w,err= weights_by_hebbian(A_LD,B_LD,num_epochs,lr)\n",
        "print('weights by hebbian for linearly dependant A \\n',(w))\n",
        "print('error by hebbian = '+str(np.round(err,8)))"
      ],
      "metadata": {
        "colab": {
          "base_uri": "https://localhost:8080/"
        },
        "id": "AaIfYbIoNbmk",
        "outputId": "09a52b45-4c08-4eb8-b1ce-1749e96c75d3"
      },
      "execution_count": 48,
      "outputs": [
        {
          "output_type": "stream",
          "name": "stdout",
          "text": [
            "weights by hebbian for linearly independant A \n",
            " [[45. 30.  0.]\n",
            " [30. 45. 30.]\n",
            " [ 0. 30. 60.]]\n",
            "error by hebbian = 28448.33333333\n",
            "\n",
            "\n",
            "weights by hebbian for orthonormal A \n",
            " [[2.14307894 0.50286107 0.57231576]\n",
            " [0.50286107 2.55495208 0.10835159]\n",
            " [0.57231576 0.10835159 1.30196898]]\n",
            "error by hebbian = 0.0\n",
            "\n",
            "\n",
            "weights by hebbian for linearly dependant A \n",
            " [[ 15.  40.  20.]\n",
            " [ 40. 125.  90.]\n",
            " [ 20.  90. 100.]]\n",
            "error by hebbian = 307695.33333333\n"
          ]
        }
      ]
    },
    {
      "cell_type": "markdown",
      "source": [
        "## Inferences and Conclusion : State all the key observations and conclusion"
      ],
      "metadata": {
        "id": "7i-dHXdtq22j"
      }
    },
    {
      "cell_type": "markdown",
      "source": [
        ""
      ],
      "metadata": {
        "id": "5Sx3jrowq60t"
      }
    },
    {
      "cell_type": "markdown",
      "source": [
        "# **Problem 2** : Demonstrate the working principle of two layer associative network performing hetero\u0002association task (i.e each input output pair is related with different functional relations).\n",
        "\n",
        "Observation to be demonstrated are:\n",
        "1. Limitation of no. of patterns to input dimensionality.\n",
        "2. Overcome the limitation by modifying the task to a pattern classification task.\n",
        "3. Use computation and Widrow’s learning law to demonstrate the same.\n",
        "\n",
        "Hints:\n",
        "\n",
        "1. Generate data such that each input output data points have different functional\n",
        "relation.\n",
        "2. First do it using computation method , then take the performance as reference, to\n",
        "implement using Widrow learning.\n",
        "3. Modify the data and network element such that the network will overcome the\n",
        "limitation of limitation of no. of data points with the input dimensionality, and\n",
        "perform pattern classification task."
      ],
      "metadata": {
        "id": "Nuk9TMAtq-gf"
      }
    },
    {
      "cell_type": "markdown",
      "source": [
        "##Write down the Objectives, Hypothesis and Experimental description for the above problem\n",
        "\n"
      ],
      "metadata": {
        "id": "z90pHFuLrjjB"
      }
    },
    {
      "cell_type": "markdown",
      "source": [
        ""
      ],
      "metadata": {
        "id": "8J0DGPTwrkZ8"
      }
    },
    {
      "cell_type": "markdown",
      "source": [
        "## Programming : \n",
        "  Please write a program to demonstrate the same"
      ],
      "metadata": {
        "id": "pDBbGAHWrl3c"
      }
    },
    {
      "cell_type": "code",
      "source": [
        "## Write your code here to Generate the Data\n",
        "## Important Parameters to generate data are : Number of Datapoints, Dimension of Data"
      ],
      "metadata": {
        "id": "zzSf6CMOrmxg"
      },
      "execution_count": null,
      "outputs": []
    },
    {
      "cell_type": "code",
      "source": [
        "## You can use the same function defined above for computation method and widrow's learning law"
      ],
      "metadata": {
        "id": "n3S0FF2Zu-MF"
      },
      "execution_count": null,
      "outputs": []
    },
    {
      "cell_type": "markdown",
      "source": [
        "## Inferences and Conclusion : State all the key observations and conclusion"
      ],
      "metadata": {
        "id": "wXwqOzaqroPN"
      }
    },
    {
      "cell_type": "markdown",
      "source": [
        ""
      ],
      "metadata": {
        "id": "ebBZC2eJrpQl"
      }
    }
  ]
}