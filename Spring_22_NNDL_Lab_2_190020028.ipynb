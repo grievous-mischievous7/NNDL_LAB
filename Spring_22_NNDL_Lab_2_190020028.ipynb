{
  "nbformat": 4,
  "nbformat_minor": 0,
  "metadata": {
    "colab": {
      "name": "Spring_22_NNDL_Lab_2_190020028.ipynb",
      "provenance": [],
      "collapsed_sections": [],
      "include_colab_link": true
    },
    "kernelspec": {
      "name": "python3",
      "display_name": "Python 3"
    },
    "language_info": {
      "name": "python"
    }
  },
  "cells": [
    {
      "cell_type": "markdown",
      "metadata": {
        "id": "view-in-github",
        "colab_type": "text"
      },
      "source": [
        "<a href=\"https://colab.research.google.com/github/grievous-mischievous7/NNDL_LAB/blob/main/Spring_22_NNDL_Lab_2_190020028.ipynb\" target=\"_parent\"><img src=\"https://colab.research.google.com/assets/colab-badge.svg\" alt=\"Open In Colab\"/></a>"
      ]
    },
    {
      "cell_type": "markdown",
      "source": [
        "# LAB 2 : Multi Class Classification Using Perceptron \n",
        "\n",
        "Name :**Neville Thomas Sebastian**\n",
        "\n",
        "Roll Number :**190020028** \n",
        "\n"
      ],
      "metadata": {
        "id": "WmH9b_FkVDQd"
      }
    },
    {
      "cell_type": "markdown",
      "source": [
        "# **Problem 1** : Demonstrate the 2-input, 2-output neural network, to perform 4 class, classification task.\n",
        "\n",
        "  1. Generate appropriate data synthetically (Ex: Multivariate Gaussian data with different mean vectors and Identity covariance matrix can be used )\n",
        "  2. Have to convert the class labels (0, 1, 2, 3) to its corresponding binary value.\n",
        "  3. Use appropriate activation function and learning rule .\n",
        "  4. Draw the learned separating hyper planes in each iteration. (using the information\n",
        "  from the learned weights).\n",
        "  5. After the network is learned, a independent test set can be used to validate the per\u0002formance. (Performance can be shown through accuracy/error percentage, justify\n",
        "  the error by drawing the separating hyper-plane over the test set data (use different\n",
        "  color code for different class label) )"
      ],
      "metadata": {
        "id": "CCqAnBNyWmyg"
      }
    },
    {
      "cell_type": "markdown",
      "source": [
        "## OBJECTIVE:\n",
        "**Implementing 2-input,2-output neural network , to perform 4 class, classification task.**\n",
        "\n",
        "## HYPOTHESIS:\n",
        "\n",
        "**The neural network model should be able to find the weights using the perceptron learning law.**\n",
        "\n",
        "## EXPERIMENTAL DESCRIPTION\n",
        "\n",
        "1.   For this neural network model we intially generate multivariate gaussian data , then we augment the data and then label it.\n",
        "2.   Then we define the function perceptron_learning_loop() on the basis of perceptron learning law.\n",
        "3.   After training the model we test the model with the test data."
      ],
      "metadata": {
        "id": "oN1gqe4AW6TO"
      }
    },
    {
      "cell_type": "markdown",
      "source": [
        "## Programming : \n",
        "  Please write a program to demonstrate the same"
      ],
      "metadata": {
        "id": "fyZRTAdnW7_v"
      }
    },
    {
      "cell_type": "code",
      "source": [
        "import numpy as np\n",
        "import matplotlib.pyplot as plt\n",
        "import random\n",
        "\n",
        "def GenerateData(No_training,mean,variance):\n",
        "\n",
        "  data = []\n",
        "  ## Write your code here\n",
        "  data=np.random.multivariate_normal(mean,variance,size=No_training,check_valid='warn',tol=1e-8)#multivariate gaussian function\n",
        "  return data"
      ],
      "metadata": {
        "id": "WHxTqibuW9QR"
      },
      "execution_count": 52,
      "outputs": []
    },
    {
      "cell_type": "code",
      "source": [
        "## Define Mean and Variance for all the data points\n",
        "No_training=1000\n",
        "data=[]\n",
        "j=[]\n",
        "mean=[[0,0],[0,20],[20,0],[20,20]]#initialising mean vectors\n",
        "variance=np.eye(2)#covarinace matrix\n",
        "for i in mean:\n",
        "  j.append(GenerateData(No_training,i,variance))#appending generated data to a list\n",
        "#print(np.array(j))\n",
        "#print(data[0][0][1])\n",
        "#print(data[1])\n",
        "j=np.array(j)\n",
        "j.shape"
      ],
      "metadata": {
        "id": "apEx3WzZ4UIy",
        "colab": {
          "base_uri": "https://localhost:8080/"
        },
        "outputId": "a454aeec-c6c3-443d-8d63-b29e5f9d7a2e"
      },
      "execution_count": 53,
      "outputs": [
        {
          "output_type": "execute_result",
          "data": {
            "text/plain": [
              "(4, 1000, 2)"
            ]
          },
          "metadata": {},
          "execution_count": 53
        }
      ]
    },
    {
      "cell_type": "code",
      "source": [
        "## Augment the Data \n",
        "data=np.concatenate((j[0],j[1],j[2],j[3]),axis=0) #concatenating the data to create a (4000,2) matrix\n",
        "data_aug=np.concatenate((data,np.ones((data.shape[0],1))),axis=1) #augmenting data, adding 1 to each row , matrix becomes (4000,3)\n",
        "#print(data_aug)\n",
        "data_aug.shape"
      ],
      "metadata": {
        "id": "ZzkIW6Ec4d37",
        "colab": {
          "base_uri": "https://localhost:8080/"
        },
        "outputId": "ea52c26d-867f-4f58-f9aa-6d5acdff110f"
      },
      "execution_count": 54,
      "outputs": [
        {
          "output_type": "execute_result",
          "data": {
            "text/plain": [
              "(4000, 3)"
            ]
          },
          "metadata": {},
          "execution_count": 54
        }
      ]
    },
    {
      "cell_type": "code",
      "source": [
        "## Define Target Labels\n",
        "#initializing classes.\n",
        "c1=np.tile([-1,-1],(No_training,1))  #red\n",
        "c2=np.tile([-1,1],(No_training,1))   #blue\n",
        "c3=np.tile([1,-1],(No_training,1))   #green\n",
        "c4=np.tile([1,1],(No_training,1))    #yellow\n",
        "target=np.concatenate((c1,c2,c3,c4),axis=0)\n",
        "target.shape\n",
        "#print(target)"
      ],
      "metadata": {
        "id": "wt_DoSnQ4rwV",
        "colab": {
          "base_uri": "https://localhost:8080/"
        },
        "outputId": "9d800f22-5663-43c9-e004-a2c18fca974f"
      },
      "execution_count": 55,
      "outputs": [
        {
          "output_type": "execute_result",
          "data": {
            "text/plain": [
              "(4000, 2)"
            ]
          },
          "metadata": {},
          "execution_count": 55
        }
      ]
    },
    {
      "cell_type": "code",
      "source": [
        "lr=0.1\n",
        "epochs=1000\n",
        "w_initial=np.array([[0,0,-1],[0,0,-1]])#2*3 matrix\n",
        "\n",
        "def perceptron_learning_loop(inp,target,w,lr,epochs):\n",
        "  ## Write your code here\n",
        "  INP = np.transpose(inp) #3*4000 matrix\n",
        "  error = []\n",
        "  w_new = w_initial      \n",
        "  err = 100\n",
        "  k = 0\n",
        "  while k<epochs and err>0.01:\n",
        "      s = w_new@INP # weighted sum of inputs matrix,dimension is 2*4000\n",
        "      error_vec = np.transpose(target) - np.sign(s) #dimension is 2*4000\n",
        "      dw  = lr * error_vec@inp \n",
        "      w_new = w_new + dw\n",
        "      err= np.linalg.norm(error_vec,ord=2)\n",
        "      k +=1\n",
        "      error.append(err)\n",
        "  return w_new,error,k\n",
        "w_new, error ,k = perceptron_learning_loop(data_aug,target,w_initial,lr,epochs)\n",
        "print(\"New Weights are:\")\n",
        "print(w_new)\n",
        "print(\"the norm error is:\",error[-1])\n",
        "print('===============================================================================')\n",
        "plt.plot(error, label='Error convergence',color='r')\n",
        "plt.title('norm of Error vector vs epochs')\n",
        "plt.xlabel('epochs')\n",
        "plt.ylabel('Error')\n",
        "plt.show()\n",
        "print('===============================================================================')\n",
        "#===============================================================================\n",
        "#after iteration=0\n",
        "color=['r','b','g','y']\n",
        "for i in range(j.shape[0]):\n",
        "  plt.scatter(j[i,:,0],j[i,:,1],color=color[i])\n",
        "plt.xlabel('X1')\n",
        "plt.ylabel('X2')\n",
        "plt.title('after iteration = 0')\n",
        "plt.show()\n",
        "print('===============================================================================')\n",
        "#===============================================================================\n",
        "#after iteration=0\n",
        "\n",
        "for i in range(j.shape[0]):\n",
        "  plt.scatter(j[i,:,0],j[i,:,1],color=color[i])\n",
        "x1=np.linspace(-5,30,35)\n",
        "x12=(-w_new[0,2]-w_new[0,0]*x1)/w_new[0,1]\n",
        "x22=(-w_new[1,2]-w_new[1,0]*x1)/w_new[1,1]\n",
        "plt.plot(x1,x12,color='m')\n",
        "plt.plot(x1,x22,color='c')\n",
        "plt.xlabel('X1')\n",
        "plt.ylabel('X2')\n",
        "limits = [ -5, 25, -5, 25]\n",
        "plt.axis(limits)\n",
        "plt.title('after iteration = '+ str(k))\n",
        "plt.show()\n",
        "print('===============================================================================')"
      ],
      "metadata": {
        "id": "Ux0W_B2T4xd2",
        "colab": {
          "base_uri": "https://localhost:8080/",
          "height": 990
        },
        "outputId": "06dfdb0d-7473-40bb-f7be-08af45f4f496"
      },
      "execution_count": 56,
      "outputs": [
        {
          "output_type": "stream",
          "name": "stdout",
          "text": [
            "New Weights are:\n",
            "[[ 1588.88037234  -624.70295294 -5027.        ]\n",
            " [ -153.05930474  1846.85886153 -5123.        ]]\n",
            "the norm error is: 0.0\n",
            "===============================================================================\n"
          ]
        },
        {
          "output_type": "display_data",
          "data": {
            "image/png": "[encoded data removed]",
            "text/plain": [
              "<Figure size 432x288 with 1 Axes>"
            ]
          },
          "metadata": {
            "needs_background": "light"
          }
        },
        {
          "output_type": "stream",
          "name": "stdout",
          "text": [
            "===============================================================================\n"
          ]
        },
        {
          "output_type": "display_data",
          "data": {
            "image/png": "[encoded data removed]",
            "text/plain": [
              "<Figure size 432x288 with 1 Axes>"
            ]
          },
          "metadata": {
            "needs_background": "light"
          }
        },
        {
          "output_type": "stream",
          "name": "stdout",
          "text": [
            "===============================================================================\n"
          ]
        },
        {
          "output_type": "display_data",
          "data": {
            "image/png": "[encoded data removed]",
            "text/plain": [
              "<Figure size 432x288 with 1 Axes>"
            ]
          },
          "metadata": {
            "needs_background": "light"
          }
        },
        {
          "output_type": "stream",
          "name": "stdout",
          "text": [
            "===============================================================================\n"
          ]
        }
      ]
    },
    {
      "cell_type": "code",
      "source": [
        "## Testing\n",
        "No_testing=10\n",
        "c1=np.tile([-1,-1],(No_testing,1)) #initializing classes. \n",
        "c2=np.tile([-1,1],(No_testing,1))\n",
        "c3=np.tile([1,-1],(No_testing,1))\n",
        "c4=np.tile([1,1],(No_testing,1))\n",
        "target=np.concatenate((c1,c2,c3,c4),axis=0)\n",
        "data=[]\n",
        "j=[]\n",
        "k=1\n",
        "#mean=[[0,0],[0,20],[20,0],[20,20]]\n",
        "#variance=np.eye(2)\n",
        "for i in mean:\n",
        "  j=GenerateData(No_testing,i,variance)\n",
        "  j=np.concatenate((j,np.ones((j.shape[0],1))),axis=1)\n",
        "  predicted_data = np.sign(np.transpose(w_new@np.transpose(j)))\n",
        "  start=0+(k-1)*No_testing\n",
        "  end=k*No_testing\n",
        "  err_vec=target[start:end,]-predicted_data\n",
        "  err= np.linalg.norm(err_vec)\n",
        "  print(predicted_data)\n",
        "  print('error = '+str(err))\n",
        "  print(\"______________________________________________\")\n",
        "  k+=1"
      ],
      "metadata": {
        "id": "DG4uoWKY48A4",
        "colab": {
          "base_uri": "https://localhost:8080/"
        },
        "outputId": "1516dac4-a0e5-4b70-f7a6-3b1b90b0da5f"
      },
      "execution_count": 57,
      "outputs": [
        {
          "output_type": "stream",
          "name": "stdout",
          "text": [
            "[[-1. -1.]\n",
            " [-1. -1.]\n",
            " [-1. -1.]\n",
            " [-1. -1.]\n",
            " [-1. -1.]\n",
            " [-1. -1.]\n",
            " [-1. -1.]\n",
            " [-1. -1.]\n",
            " [-1. -1.]\n",
            " [-1. -1.]]\n",
            "error = 0.0\n",
            "______________________________________________\n",
            "[[-1.  1.]\n",
            " [-1.  1.]\n",
            " [-1.  1.]\n",
            " [-1.  1.]\n",
            " [-1.  1.]\n",
            " [-1.  1.]\n",
            " [-1.  1.]\n",
            " [-1.  1.]\n",
            " [-1.  1.]\n",
            " [-1.  1.]]\n",
            "error = 0.0\n",
            "______________________________________________\n",
            "[[ 1. -1.]\n",
            " [ 1. -1.]\n",
            " [ 1. -1.]\n",
            " [ 1. -1.]\n",
            " [ 1. -1.]\n",
            " [ 1. -1.]\n",
            " [ 1. -1.]\n",
            " [ 1. -1.]\n",
            " [ 1. -1.]\n",
            " [ 1. -1.]]\n",
            "error = 0.0\n",
            "______________________________________________\n",
            "[[1. 1.]\n",
            " [1. 1.]\n",
            " [1. 1.]\n",
            " [1. 1.]\n",
            " [1. 1.]\n",
            " [1. 1.]\n",
            " [1. 1.]\n",
            " [1. 1.]\n",
            " [1. 1.]\n",
            " [1. 1.]]\n",
            "error = 0.0\n",
            "______________________________________________\n"
          ]
        }
      ]
    },
    {
      "cell_type": "markdown",
      "source": [
        "## Inferences and Conclusion : State all the key observations and conclusion"
      ],
      "metadata": {
        "id": "8EmTAvDTW-uV"
      }
    },
    {
      "cell_type": "markdown",
      "source": [
        "## OBSERVATION:\n",
        "\n",
        "\n",
        "| learning rate | iterations after which error converges |\n",
        "|---------------|----------------------------------------|\n",
        "| 0.0001        | 363                                    |\n",
        "| 0.001         | 426                                    |\n",
        "| 0.01          | 432                                    |\n",
        "| 0.1           | 432                                    |\n",
        "\n",
        "\n",
        "## INFERENCE:\n",
        "\n",
        "\n",
        "*   **Factors deciding the speed of convergence of the model are : initial weights, learning rate .**\n",
        "*   **if the clusters overlap (in the synthetically generated data) , the no.of iteration = epochs.**\n",
        "*   **If clusters overlap this Neural Network Model can't seperate the data accurately.**\n",
        "\n",
        "\n",
        "## CONCLUSION:\n",
        "\n",
        "\n",
        "*   **This Neural network model can classify accurately if the classes(clusters) does not overlap.**\n",
        "\n"
      ],
      "metadata": {
        "id": "lptLPyN3W_j2"
      }
    },
    {
      "cell_type": "code",
      "source": [
        "1+2+3"
      ],
      "metadata": {
        "colab": {
          "base_uri": "https://localhost:8080/"
        },
        "id": "fTeev2SU8jUU",
        "outputId": "a5e83ea8-b3e0-4e97-8adc-80f29c31a941"
      },
      "execution_count": 58,
      "outputs": [
        {
          "output_type": "execute_result",
          "data": {
            "text/plain": [
              "6"
            ]
          },
          "metadata": {},
          "execution_count": 58
        }
      ]
    }
  ]
}