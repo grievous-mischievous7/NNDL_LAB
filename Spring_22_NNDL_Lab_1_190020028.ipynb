{
  "nbformat": 4,
  "nbformat_minor": 0,
  "metadata": {
    "colab": {
      "name": "Spring_22_NNDL_Lab_1_190020028.ipynb",
      "provenance": [],
      "include_colab_link": true
    },
    "kernelspec": {
      "name": "python3",
      "display_name": "Python 3"
    },
    "language_info": {
      "name": "python"
    }
  },
  "cells": [
    {
      "cell_type": "markdown",
      "metadata": {
        "id": "view-in-github",
        "colab_type": "text"
      },
      "source": [
        "<a href=\"https://colab.research.google.com/github/grievous-mischievous7/NNDL_LAB/blob/main/Spring_22_NNDL_Lab_1_190020028.ipynb\" target=\"_parent\"><img src=\"https://colab.research.google.com/assets/colab-badge.svg\" alt=\"Open In Colab\"/></a>"
      ]
    },
    {
      "cell_type": "markdown",
      "source": [
        "# LAB 1 : Realisation of Logic Gates and Linear Regression Equation\n",
        "\n",
        "Name : **Neville Thomas Sebastian**\n",
        "\n",
        "Roll Number : **190020028**\n",
        "\n",
        "Referrence Material : Page no. 26-29, Artificial Neural Network by B. Yegnanarayana\n",
        "\n"
      ],
      "metadata": {
        "id": "_tKd_pa0NlSL"
      }
    },
    {
      "cell_type": "markdown",
      "source": [
        "\n",
        "#**Problem 1** : Demonstrate the realization of NAND gate, NOR gate, and XOR gate using McCulloch Pitts (MP) and Rosenblatt’s Perceptron model.\n",
        "\n",
        "  1. Write down the truth table of the logic gates.\n",
        "  2. For MP model: compute the appropriate weight, such that the neuron provide logic\n",
        "  gate output.\n",
        "  3. For Perceptron: use truth table values as input and output to learn the weights\n",
        "  through weight update equation."
      ],
      "metadata": {
        "id": "dErPdS0_P28K"
      }
    },
    {
      "cell_type": "markdown",
      "source": [
        "##Write down the Objectives, Hypothesis and Experimental description for the above problem\n",
        "\n"
      ],
      "metadata": {
        "id": "ryrFfzEKQI5n"
      }
    },
    {
      "cell_type": "markdown",
      "source": [
        "##OBJECTIVE:\n",
        "**Implementing NAND , NOR and XOR gates using McCulloch Pit's model and Rosenblatt's Perceptron Model.**\n",
        "\n",
        "##HYPOTHESIS:\n",
        "\n",
        "\n",
        "1.   **In McCulloch Pit's Model, the predetermined weights should provide the corresponding outputs for the corresponding gates.**\n",
        "2.   **In the Rosenblatt's perceptron Model, the perceptron should be able to find the weights using the perceptron learning law.**\n",
        "\n",
        "\n",
        "##EXPERIMENTAL DESCRIPTION\n",
        "\n",
        "\n",
        "\n",
        "1.   For the MP model , initially we assign predetermined weights and bias and write a code to verify that the weights we provided indeed results in the corresponding gate.\n",
        "2.   For the Rosenblatt's perceptron model , we initialise soome random weights and update the weight each time in a iteration based on the error , the weight update is (error* learning rate * input) . \n",
        "\n"
      ],
      "metadata": {
        "id": "eEnbfDy9Rtjo"
      }
    },
    {
      "cell_type": "markdown",
      "source": [
        "## Programming : \n",
        "  Please write a program to demonstrate the same"
      ],
      "metadata": {
        "id": "25VD_TLxRXwN"
      }
    },
    {
      "cell_type": "code",
      "execution_count": 6,
      "metadata": {
        "id": "5SJ_c9i2JkZ6",
        "colab": {
          "base_uri": "https://localhost:8080/"
        },
        "outputId": "b364fded-1196-4c0b-d4de-95e69fde8d7b"
      },
      "outputs": [
        {
          "output_type": "stream",
          "name": "stdout",
          "text": [
            "Results for NAND gate : \n",
            "Input is : (0, 0)\n",
            "Logic Gate output is :  1\n",
            "Input is : (0, 1)\n",
            "Logic Gate output is :  1\n",
            "Input is : (1, 0)\n",
            "Logic Gate output is :  1\n",
            "Input is : (1, 1)\n",
            "Logic Gate output is :  0\n",
            "=====================================\n",
            "Results for NOR gate : \n",
            "Input is : (0, 0)\n",
            "Logic Gate output is :  1\n",
            "Input is : (0, 1)\n",
            "Logic Gate output is :  0\n",
            "Input is : (1, 0)\n",
            "Logic Gate output is :  0\n",
            "Input is : (1, 1)\n",
            "Logic Gate output is :  0\n",
            "=====================================\n",
            "Results for XOR gate : \n",
            "Input is : (0, 0)\n",
            "Logic Gate output is :  0\n",
            "Input is : (0, 1)\n",
            "Logic Gate output is :  1\n",
            "Input is : (1, 0)\n",
            "Logic Gate output is :  1\n",
            "Input is : (1, 1)\n",
            "Logic Gate output is :  0\n",
            "=====================================\n"
          ]
        }
      ],
      "source": [
        "## Part A : MP model\n",
        "\n",
        "import numpy as np\n",
        "import matplotlib.pyplot as plt\n",
        "import random\n",
        "\n",
        "##Output function ====> if x>0 then f(x) takes value 1 else f(x) takes value 0\n",
        "def output_func(x):\n",
        "  f_x=0  \n",
        "  if(x>0):\n",
        "    f_x=1\n",
        "  return f_x\n",
        "   \n",
        "def mp_model(x,gate):\n",
        "\n",
        "  ## Write the activation function and define weights and bias for all three gates\n",
        "  input=[x[0],x[1]] #Making the tuple into a list.\n",
        "\n",
        "  #=============================================================================\n",
        "  def act_func(weights,bias,inputs):\n",
        "    product=np.multiply(weights,inputs) \n",
        "    sum=0\n",
        "    for s in product:\n",
        "      sum += s\n",
        "    x_act_func = sum - bias # weighted sum - bias\n",
        "    return x_act_func\n",
        "  #=============================================================================\n",
        "  \n",
        "  if gate == \"NAND\":\n",
        "    ## Write your code here\n",
        "    # X1' + X2'\n",
        "    weights_layer1=[-1,-1] #includes weights of the first layer of neurons of the model\n",
        "    weights_layer2=[1,1]   #includes weights of the second layer of neurons of the model\n",
        "    bias=[-1,-1,0]      #bias of the model\n",
        "    output1=[]\n",
        "    output1.append(output_func(act_func(weights_layer1[:1],bias[0],input[0]))) #output from the first neuron in the first layer\n",
        "    output1.append(output_func(act_func(weights_layer1[1:2],bias[1],input[1])))#output from the second neuron in the first layer \n",
        "    output2=act_func(weights_layer2,bias[2],output1) # output from the neuron in the last layer\n",
        "    return (output_func(output2))                 \n",
        "\n",
        "  if gate == \"NOR\":\n",
        "\n",
        "    ## Write your code here\n",
        "    #X1'X2'\n",
        "    weights_layer1=[1,1] #includes weights of the first layer of neurons of the model\n",
        "    weights_layer2=[-1]  #includes weights of the second layer of neurons of the model\n",
        "    bias=[0,-1]\n",
        "    output1=[]\n",
        "    output1.append(output_func(act_func(weights_layer1,bias[0],input)))\n",
        "    output2=act_func(weights_layer2,bias[1],output1)\n",
        "\n",
        "    return (output_func(output2))\n",
        "\n",
        "  if gate == \"XOR\":\n",
        "\n",
        "    ## Write your code here\n",
        "    # X1'X2+ X1X2'\n",
        "    weights_layer1=[-1,1,1,-1] #includes weights of the first layer of neurons of the model\n",
        "    weights_layer2=[1,1]       #includes weights of the second layer of neurons of the model\n",
        "    bias=[0,0,0]\n",
        "    output1=[]\n",
        "    output1.append(output_func(act_func(weights_layer1[0:2],bias[0],input)))\n",
        "    output1.append(output_func(act_func(weights_layer1[2:4],bias[1],input)))\n",
        "    output2=act_func(weights_layer2,bias[2],output1)\n",
        "\n",
        "    return (output_func(output2))\n",
        "  \n",
        "  #=============================================================================  \n",
        "\n",
        "\n",
        "inp_list =[(0,0),(0,1),(1,0),(1,1)] ##list consisting of inputs to logic gates (Binary, i.e (0,0),(0,1),(1,0),(1,1))\n",
        "req_gates =['NAND','NOR','XOR']     ##list of all gates (NAND,NOR,XOR)\n",
        "\n",
        "for gate in req_gates:\n",
        "  print('Results for ' + gate + ' gate : ')\n",
        "  for inp in inp_list:\n",
        "    print(\"Input is : \" + str(inp))\n",
        "    outp = mp_model(inp,gate)\n",
        "    print(\"Logic Gate output is : \",outp)\n",
        "  \n",
        "  print('=====================================')"
      ]
    },
    {
      "cell_type": "code",
      "source": [
        "## Part B : Rosenblatt's Percept\n",
        "\n",
        "import numpy as np\n",
        "import matplotlib.pyplot as plt\n",
        "\n",
        "def rosenblatt_perceptron(inp_list,output,learning_rate,w_initial,num_epochs,gate):\n",
        "\n",
        "  err= []\n",
        "\n",
        "  weights=w_initial #assigning weights inital weight values.\n",
        "  #=============================================================================\n",
        "  def predict(weights,inputs):\n",
        "    p=np.multiply(weights,inputs) \n",
        "    x=0\n",
        "    for s in p:\n",
        "      x+= s\n",
        "    if (x>0):\n",
        "      return 1\n",
        "    else:\n",
        "      return 0\n",
        "  #=============================================================================\n",
        "\n",
        "  for epoch in range(num_epochs):\n",
        "    \n",
        "    ## Write the learning code here, return new weights and error, Save the error value after each iteration to plot a error v/s iteration graph in case of all 3 gates\n",
        "    for sample,target in zip(inp_list,output):\n",
        "      prediction=predict(weights,sample)\n",
        "      #print(prediction)\n",
        "      error=(target-prediction) #error\n",
        "      #print(error)\n",
        "      err.append(error) #appending error in a list for plotting error vs iteration \n",
        "      weight_update=learning_rate*error\n",
        "      weights[2]+=weight_update\n",
        "      for i in range(2):\n",
        "        weights[i]+=weight_update*sample[i]\n",
        "      \n",
        "  w_new=weights\n",
        "  error=err\n",
        "  return w_new,error\n",
        "\n",
        "#===============================================================================\n",
        "\n",
        "inp_list = [[0,0],[0,1],[1,0],[1,1]]## Create a list consisting of inputs to logic gates (Binary, i.e (0,0),(0,1),(1,0),(1,1))\n",
        "learning_rate = .5 ## Define a learning rate\n",
        "num_epochs = 20 ## Set number of epochs\n",
        "##==============================================================================\n",
        "bias=1\n",
        "for i in inp_list:\n",
        "  i.append(bias) #appending bias with the original data so as to give it as a input.\n",
        "#print(inp_list)\n",
        "##==============================================================================\n",
        "\n",
        "## For NAND gate\n",
        "\n",
        "nand_output =[1,1,1,0]  ## Define NAND gate target output\n",
        "w_initial =[0,0,0]## Initialise weights\n",
        "w_new,error = rosenblatt_perceptron(inp_list,nand_output,learning_rate,w_initial,num_epochs,\"NAND\")\n",
        "print(\"final weights of NAND gate :\" + str(w_new))\n",
        "print(\"Final error :\"+str(error[-1]))\n",
        "plt.plot(list(range(len(error))),error,color='b')\n",
        "plt.xlabel(\"Iteration\")\n",
        "plt.ylabel(\"Error\")\n",
        "plt.title('Error vs Iteration')\n",
        "plt.show()\n",
        "print('=================================================')\n",
        "## For NOR gate\n",
        "\n",
        "nor_output  =[1,0,0,0]  ## Define NOR gate target output\n",
        "w_initial =[0,0,0]## Initialise weights\n",
        "w_new,error = rosenblatt_perceptron(inp_list,nor_output,learning_rate,w_initial,num_epochs,\"NOR\")\n",
        "print(\"final weights of NOR gate :\" + str(w_new))\n",
        "print(\"Final error :\"+str(error[-1]))\n",
        "plt.plot(list(range(len(error))),error,color='g')\n",
        "plt.xlabel(\"Iteration\")\n",
        "plt.ylabel(\"Error\")\n",
        "plt.title('Error vs Iteration')\n",
        "plt.show()\n",
        "\n",
        "print('=================================================')\n",
        "## For XOR gate\n",
        "xor_output  =[0,1,1,0]  ## Define XOR gate target output\n",
        "w_initial =[0,0,0]## Initialise weights\n",
        "w_new,error = rosenblatt_perceptron(inp_list,xor_output,learning_rate,w_initial,num_epochs,\"XOR\")\n",
        "print(\"final weights of XOR gate :\" + str(w_new))\n",
        "print(\"Final error :\"+str(error[-1]))\n",
        "plt.plot(list(range(len(error))),error,color='r')\n",
        "plt.xlabel(\"Iteration\")\n",
        "plt.ylabel(\"Error\")\n",
        "plt.title('Error vs Iteration')\n",
        "plt.show()\n",
        "print('=================================================')"
      ],
      "metadata": {
        "colab": {
          "base_uri": "https://localhost:8080/",
          "height": 1000
        },
        "id": "Kmm-Glz1Z0_R",
        "outputId": "d0c2fc6c-278c-4e4f-822e-b9afa61b0907"
      },
      "execution_count": 7,
      "outputs": [
        {
          "output_type": "stream",
          "name": "stdout",
          "text": [
            "final weights of NAND gate :[-1.0, -0.5, 1.5]\n",
            "Final error :0\n"
          ]
        },
        {
          "output_type": "display_data",
          "data": {
            "image/png": "[encoded data removed]",
            "text/plain": [
              "<Figure size 432x288 with 1 Axes>"
            ]
          },
          "metadata": {
            "needs_background": "light"
          }
        },
        {
          "output_type": "stream",
          "name": "stdout",
          "text": [
            "=================================================\n",
            "final weights of NOR gate :[-0.5, -0.5, 0.5]\n",
            "Final error :0\n"
          ]
        },
        {
          "output_type": "display_data",
          "data": {
            "image/png": "[encoded data removed]",
            "text/plain": [
              "<Figure size 432x288 with 1 Axes>"
            ]
          },
          "metadata": {
            "needs_background": "light"
          }
        },
        {
          "output_type": "stream",
          "name": "stdout",
          "text": [
            "=================================================\n",
            "final weights of XOR gate :[-0.5, 0.0, 0.5]\n",
            "Final error :-1\n"
          ]
        },
        {
          "output_type": "display_data",
          "data": {
            "image/png": "[encoded data removed]",
            "text/plain": [
              "<Figure size 432x288 with 1 Axes>"
            ]
          },
          "metadata": {
            "needs_background": "light"
          }
        },
        {
          "output_type": "stream",
          "name": "stdout",
          "text": [
            "=================================================\n"
          ]
        }
      ]
    },
    {
      "cell_type": "markdown",
      "source": [
        "## Inferences and Conclusion : State all the key observations and conclusion"
      ],
      "metadata": {
        "id": "LhbQ_RnnTHQ8"
      }
    },
    {
      "cell_type": "markdown",
      "source": [
        "##INFERENCE:\n",
        "\n",
        "\n",
        "1.   For the MP model : \n",
        "\n",
        "*   for NAND gate : there was two MP neurons in the first layer(each with 1 input) and 1 neuron in the second layer(2 inputs) and the predetermined weights provide the desired output for the NAND gate.\n",
        "*   for NOR gate : there was 1 MP neuron (with 2 inputs) in the first layer and 1 neuron in the second layer and the predetermined weights provide the desired ouptut for the nOR gate\n",
        "*   for XOR gate: there was 2 MP neuron in the first layer(each with 2 inputs) and 1 neuron in the second layer and the predetermined weights provide the desired output for the XOR gate.\n",
        "\n",
        "2.   For the Rosenblatt's perceptron model:\n",
        "\n",
        "\n",
        "*   For NAND and NOR gate the 3 input single layered neuron model is able to learn the weights and provide the corresponding results.But for the XOR gate the 3 input single layered neuron model does not provide the corresponding output.  \n",
        "\n",
        "##CONCLUSION:\n",
        "\n",
        "\n",
        "1.   **For the MP model we have obtained the desired result for all 3 gates.**\n",
        "2.   **For the Rosenblatt's model we obtained desired result for NAND and NOR , but not for XOR.**\n",
        "\n",
        "\n",
        "\n",
        "\n"
      ],
      "metadata": {
        "id": "jBW7LR8fTIPg"
      }
    },
    {
      "cell_type": "markdown",
      "source": [
        "# **Problem 2** : Demonstrate the realization of y = 1 + 2x1 + 2x2 using Widrow’s Adaline model.\n",
        "\n",
        "  1. Generate some N no. of data points using equation y = 1 + 2x1 + 2x2.\n",
        "  2. Use the input and output data to train the Adaline model, after training the Adaline\n",
        "  model should provide appropriate y as output value for any arbitrary input."
      ],
      "metadata": {
        "id": "G_0zUVioR5vs"
      }
    },
    {
      "cell_type": "markdown",
      "source": [
        "## Write down the Objectives, Hypothesis and Experimental description for the above problem"
      ],
      "metadata": {
        "id": "PnoRYE6RSGnA"
      }
    },
    {
      "cell_type": "markdown",
      "source": [
        "##OBJECTIVE:\n",
        "**Implementing y=1+2x1+2x2 using Widrow's Adaline model.**\n",
        "\n",
        "##HYPOTHESIS:\n",
        "\n",
        "\n",
        "1.   **The model should be able to find the weights using the learning law.**\n",
        "\n",
        "\n",
        "\n",
        "##EXPERIMENTAL DESCRIPTION\n",
        "\n",
        "\n",
        "1.   Initially the data points are generated and then corresponding target value is found . This is passed on as an argument.\n",
        "2.   The output function of a neuron in widrow adaline's model is the activation function itself.The weight update is : (Error* learning rate *input).\n",
        "\n",
        "\n"
      ],
      "metadata": {
        "id": "iy_a0ktjSO32"
      }
    },
    {
      "cell_type": "markdown",
      "source": [
        "## Programming : \n",
        "  Please write a program to demonstrate the same"
      ],
      "metadata": {
        "id": "MLaownmzSR98"
      }
    },
    {
      "cell_type": "code",
      "source": [
        "## Widrow Adaline model : Perform the experiment for different weight inialisations and learning rates and state your observations\n",
        "\n",
        "def widrow_adaline(inp,learning_rate,w_initial,num_epochs,N):\n",
        "\n",
        "  error = [] # the error list to be returned \n",
        "  err=None   #the error for eachiteration\n",
        "  x1=inp[0]  \n",
        "  x2=inp[1]\n",
        "  targets=inp[2]\n",
        "  samples=list(zip(x1,x2))#making a pair of x1 and x2\n",
        "  weights=w_initial\n",
        "\n",
        "  for epoch in range(num_epochs):\n",
        "\n",
        "    ## Write the learning(training) loop here and return the new weights, also save the error after each iteration\n",
        "    for sample,target in zip(samples,targets):\n",
        "      prediction= weights[0]*sample[0] + weights[1]*sample[1] + weights[2]\n",
        "      #output is activation function itself\n",
        "      err = target - prediction\n",
        "      error.append(err)\n",
        "      weight_update=learning_rate*err\n",
        "      weights[2]+=weight_update\n",
        "      weights[0]+=weight_update*sample[0]\n",
        "      weights[1]+=weight_update*sample[1]\n",
        "      \n",
        "  w_new=weights#assigning final weights\n",
        "\n",
        "  return w_new,error  \n",
        "\n",
        "\n",
        "N = 1000## Set the number of input points \n",
        "learning_rate = 0.00001## Define a learning rate\n",
        "w_initial =[0,0,0] ## Initialise weights\n",
        "num_epochs = 20000 ## Set number of epochs\n",
        "\n",
        "## Generate the input below \n",
        "x1=random.choices(range(100),k=N)#generating x1\n",
        "x2=random.choices(range(100),k=N)#generating x2\n",
        "y=[]\n",
        "for i in range(len(x1)):\n",
        "  y.append(1+2*x1[i]+2*x2[i])#generating target y\n",
        "inp=[]\n",
        "inp.append(x1)\n",
        "inp.append(x2)\n",
        "inp.append(y)## An input array of the shape (3,100)\n",
        "\n",
        "\n",
        "w_new,error = widrow_adaline(inp,learning_rate,w_initial,num_epochs,N)\n",
        "print('final weights :',w_new)\n",
        "plt.plot(list(range(len(error))),error,color='r')\n",
        "plt.xlabel('Iterations')\n",
        "plt.ylabel('Error')\n",
        "plt.title('Error vs Iteration')\n",
        "plt.show()\n",
        "X=random.choices(range(100),k=2)\n",
        "Y=np.dot(w_new[:2],X)+w_new[2]\n",
        "print('For randomely generated X1 and X2 :',X)\n",
        "print('predicted value =',Y)\n",
        "print('Target value',1+2*X[0]+2*X[1])"
      ],
      "metadata": {
        "id": "8OVt-ObSSUJf",
        "colab": {
          "base_uri": "https://localhost:8080/",
          "height": 365
        },
        "outputId": "a2fce2ad-a69b-4f40-c49e-c989c6688175"
      },
      "execution_count": 11,
      "outputs": [
        {
          "output_type": "stream",
          "name": "stdout",
          "text": [
            "final weights : [2.000000000000049, 2.0000000000000444, 0.9999999999941498]\n"
          ]
        },
        {
          "output_type": "display_data",
          "data": {
            "image/png": "[encoded data removed]",
            "text/plain": [
              "<Figure size 432x288 with 1 Axes>"
            ]
          },
          "metadata": {
            "needs_background": "light"
          }
        },
        {
          "output_type": "stream",
          "name": "stdout",
          "text": [
            "For randomely generated X1 and X2 : [17, 68]\n",
            "predicted value = 170.999999999998\n",
            "Target value 171\n"
          ]
        }
      ]
    },
    {
      "cell_type": "markdown",
      "source": [
        "## Inferences and Conclusion : State all the key observations and conclusion"
      ],
      "metadata": {
        "id": "zdnwkeivS1iO"
      }
    },
    {
      "cell_type": "markdown",
      "source": [
        "##INFERENCE:\n",
        "\n",
        "\n",
        "1.   The model is able to generate weight values close to the original weight values.The error is almost zero.\n",
        "2.   As the learning rate is increased and making N (range of a sample and no.of samples)  and number of epochs constant the error rate shoots up after a certain no.of iterations.\n",
        "3.  The learning rate is kept very low.In case \n",
        "\n",
        "4.  If the range of values is large and the no.of epochs is also large then the bias term will come close to the desired value.\n",
        "##CONCLUSION:\n",
        "\n",
        "**The WIDROW ADALINE's MODEL is almost able to generate the correct predicted output.**\n",
        "\n"
      ],
      "metadata": {
        "id": "BS70HiWPTAnq"
      }
    }
  ]
}